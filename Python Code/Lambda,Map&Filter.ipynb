{
 "cells": [
  {
   "cell_type": "markdown",
   "metadata": {},
   "source": [
    "## Functions"
   ]
  },
  {
   "cell_type": "code",
   "execution_count": 4,
   "metadata": {},
   "outputs": [],
   "source": [
    "def check_prime(num):\n",
    "    '''\n",
    "    checking press sgift tab + tab inside () to view this message\n",
    "    '''\n",
    "    for x in range(2,int(num/2)+1):\n",
    "        print(x)\n",
    "        if num%x==0:\n",
    "            print(x,'is a factor of ',num)\n",
    "            break;\n",
    "    else:\n",
    "        print(num,'is prime.')"
   ]
  },
  {
   "cell_type": "code",
   "execution_count": 8,
   "metadata": {},
   "outputs": [
    {
     "name": "stdout",
     "output_type": "stream",
     "text": [
      "2\n",
      "3\n",
      "4\n",
      "5\n",
      "6\n",
      "7\n",
      "8\n",
      "9\n",
      "10\n",
      "11\n",
      "12\n",
      "13\n",
      "14\n",
      "15\n",
      "16\n",
      "17\n",
      "18\n",
      "19\n",
      "20\n",
      "21\n",
      "22\n",
      "23\n",
      "24\n",
      "25\n",
      "26\n",
      "53 is prime.\n"
     ]
    }
   ],
   "source": [
    "A=check_prime(53)"
   ]
  },
  {
   "cell_type": "code",
   "execution_count": 24,
   "metadata": {},
   "outputs": [
    {
     "data": {
      "text/plain": [
       "[144, 225, 169, 529, 625, 784]"
      ]
     },
     "execution_count": 24,
     "metadata": {},
     "output_type": "execute_result"
    }
   ],
   "source": [
    "sq=[] #This will run into memory issue because it is not initialized\n",
    "for num in nums:\n",
    "    sq.append(square(num))\n",
    "    \n",
    "sq    "
   ]
  },
  {
   "cell_type": "code",
   "execution_count": 28,
   "metadata": {},
   "outputs": [
    {
     "data": {
      "text/plain": [
       "[144, 225, 169, 529, 625, 784]"
      ]
     },
     "execution_count": 28,
     "metadata": {},
     "output_type": "execute_result"
    }
   ],
   "source": [
    "#This is still not a vectorized code and this is called as memory pre-allocation\n",
    "#sq=list(range(0,1000000))\n",
    "#sq=nums.copy()\n",
    "sq=list(range(0,len(nums)))\n",
    "for k,num in enumerate(nums):\n",
    "    sq[k]=square(num)\n",
    "    \n",
    "sq    "
   ]
  },
  {
   "cell_type": "code",
   "execution_count": 29,
   "metadata": {},
   "outputs": [
    {
     "name": "stdout",
     "output_type": "stream",
     "text": [
      "2\n",
      "2 is a factor of  12\n",
      "2\n",
      "3\n",
      "3 is a factor of  15\n",
      "2\n",
      "3\n",
      "4\n",
      "5\n",
      "6\n",
      "13 is prime.\n",
      "2\n",
      "3\n",
      "4\n",
      "5\n",
      "6\n",
      "7\n",
      "8\n",
      "9\n",
      "10\n",
      "11\n",
      "23 is prime.\n",
      "2\n",
      "3\n",
      "4\n",
      "5\n",
      "5 is a factor of  25\n",
      "2\n",
      "2 is a factor of  28\n"
     ]
    }
   ],
   "source": [
    "res=nums.copy()\n",
    "for k,num in enumerate(nums):\n",
    "    res[k]=check_prime(num)"
   ]
  },
  {
   "cell_type": "code",
   "execution_count": 44,
   "metadata": {},
   "outputs": [
    {
     "name": "stdout",
     "output_type": "stream",
     "text": [
      "[1, 2, 3]\n",
      "[4, 5, 6]\n",
      "[7, 8, 9]\n",
      "2\n",
      "5\n",
      "8\n"
     ]
    }
   ],
   "source": [
    "mat=[[1,2,3],[4,5,6],[7,8,9]]\n",
    "l=[]\n",
    "for k in mat:\n",
    "    print(k)\n",
    "    l.append(k[1])\n",
    "l\n",
    "\n",
    "for k,num in enumerate(mat):\n",
    "    print(mat[k][1])"
   ]
  },
  {
   "cell_type": "code",
   "execution_count": 9,
   "metadata": {},
   "outputs": [
    {
     "name": "stdout",
     "output_type": "stream",
     "text": [
      "None\n"
     ]
    }
   ],
   "source": [
    "print(A)"
   ]
  },
  {
   "cell_type": "code",
   "execution_count": 10,
   "metadata": {},
   "outputs": [
    {
     "data": {
      "text/plain": [
       "NoneType"
      ]
     },
     "execution_count": 10,
     "metadata": {},
     "output_type": "execute_result"
    }
   ],
   "source": [
    "type(A)"
   ]
  },
  {
   "cell_type": "code",
   "execution_count": 15,
   "metadata": {},
   "outputs": [],
   "source": [
    "nums=[12,15,13,23,25,28]\n",
    "nums1=[12,15,13,23,25,28]"
   ]
  },
  {
   "cell_type": "code",
   "execution_count": 16,
   "metadata": {},
   "outputs": [],
   "source": [
    "def square(num):\n",
    "    return num**2"
   ]
  },
  {
   "cell_type": "code",
   "execution_count": 17,
   "metadata": {},
   "outputs": [
    {
     "data": {
      "text/plain": [
       "110.25"
      ]
     },
     "execution_count": 17,
     "metadata": {},
     "output_type": "execute_result"
    }
   ],
   "source": [
    "square(10.5)"
   ]
  },
  {
   "cell_type": "code",
   "execution_count": 19,
   "metadata": {},
   "outputs": [
    {
     "data": {
      "text/plain": [
       "[12, 15, 13, 23, 25, 28, 12, 15, 13, 23, 25, 28]"
      ]
     },
     "execution_count": 19,
     "metadata": {},
     "output_type": "execute_result"
    }
   ],
   "source": [
    "nums+nums1"
   ]
  },
  {
   "cell_type": "code",
   "execution_count": 11,
   "metadata": {},
   "outputs": [
    {
     "name": "stdout",
     "output_type": "stream",
     "text": [
      "Variable      Type        Data/Info\n",
      "-----------------------------------\n",
      "A             NoneType    None\n",
      "check_prime   function    <function check_prime at 0x0000021E460EF558>\n"
     ]
    }
   ],
   "source": [
    "whos"
   ]
  },
  {
   "cell_type": "markdown",
   "metadata": {},
   "source": [
    "## List Comprehensions"
   ]
  },
  {
   "cell_type": "code",
   "execution_count": 45,
   "metadata": {},
   "outputs": [
    {
     "data": {
      "text/plain": [
       "[2, 5, 8]"
      ]
     },
     "execution_count": 45,
     "metadata": {},
     "output_type": "execute_result"
    }
   ],
   "source": [
    "l=[k[1] for k in mat]\n",
    "l"
   ]
  },
  {
   "cell_type": "code",
   "execution_count": 48,
   "metadata": {},
   "outputs": [
    {
     "data": {
      "text/plain": [
       "[144, 225, 169, 529, 625, 784]"
      ]
     },
     "execution_count": 48,
     "metadata": {},
     "output_type": "execute_result"
    }
   ],
   "source": [
    "l=[k**2 for k in nums]\n",
    "l"
   ]
  },
  {
   "cell_type": "code",
   "execution_count": 50,
   "metadata": {},
   "outputs": [
    {
     "name": "stdout",
     "output_type": "stream",
     "text": [
      "2\n",
      "2 is a factor of  12\n",
      "2\n",
      "3\n",
      "3 is a factor of  15\n",
      "2\n",
      "3\n",
      "4\n",
      "5\n",
      "6\n",
      "13 is prime.\n",
      "2\n",
      "3\n",
      "4\n",
      "5\n",
      "6\n",
      "7\n",
      "8\n",
      "9\n",
      "10\n",
      "11\n",
      "23 is prime.\n",
      "2\n",
      "3\n",
      "4\n",
      "5\n",
      "5 is a factor of  25\n",
      "2\n",
      "2 is a factor of  28\n"
     ]
    }
   ],
   "source": [
    "res=[check_prime(num) for num in nums]"
   ]
  },
  {
   "cell_type": "code",
   "execution_count": 51,
   "metadata": {},
   "outputs": [],
   "source": [
    "l=[k*20 for k in nums]"
   ]
  },
  {
   "cell_type": "code",
   "execution_count": 52,
   "metadata": {},
   "outputs": [
    {
     "data": {
      "text/plain": [
       "[240, 300, 260, 460, 500, 560]"
      ]
     },
     "execution_count": 52,
     "metadata": {},
     "output_type": "execute_result"
    }
   ],
   "source": [
    "l"
   ]
  },
  {
   "cell_type": "code",
   "execution_count": 77,
   "metadata": {},
   "outputs": [],
   "source": [
    "a=10;m=100"
   ]
  },
  {
   "cell_type": "code",
   "execution_count": 78,
   "metadata": {},
   "outputs": [],
   "source": [
    "global m\n",
    "m=100"
   ]
  },
  {
   "cell_type": "code",
   "execution_count": 81,
   "metadata": {},
   "outputs": [],
   "source": [
    "def calc(x,y):\n",
    "    global m\n",
    "    m=20\n",
    "    return [x*y*m,x+y+m]"
   ]
  },
  {
   "cell_type": "code",
   "execution_count": 82,
   "metadata": {},
   "outputs": [
    {
     "data": {
      "text/plain": [
       "[120, 25]"
      ]
     },
     "execution_count": 82,
     "metadata": {},
     "output_type": "execute_result"
    }
   ],
   "source": [
    "A=calc(2,3)\n",
    "A"
   ]
  },
  {
   "cell_type": "code",
   "execution_count": 83,
   "metadata": {},
   "outputs": [],
   "source": [
    "A,B=calc(2,3)"
   ]
  },
  {
   "cell_type": "code",
   "execution_count": 84,
   "metadata": {},
   "outputs": [
    {
     "data": {
      "text/plain": [
       "120"
      ]
     },
     "execution_count": 84,
     "metadata": {},
     "output_type": "execute_result"
    }
   ],
   "source": [
    "A"
   ]
  },
  {
   "cell_type": "code",
   "execution_count": 85,
   "metadata": {},
   "outputs": [
    {
     "data": {
      "text/plain": [
       "25"
      ]
     },
     "execution_count": 85,
     "metadata": {},
     "output_type": "execute_result"
    }
   ],
   "source": [
    "B"
   ]
  },
  {
   "cell_type": "code",
   "execution_count": 86,
   "metadata": {},
   "outputs": [],
   "source": [
    "A,_=calc(2,3)"
   ]
  },
  {
   "cell_type": "code",
   "execution_count": 87,
   "metadata": {},
   "outputs": [
    {
     "data": {
      "text/plain": [
       "120"
      ]
     },
     "execution_count": 87,
     "metadata": {},
     "output_type": "execute_result"
    }
   ],
   "source": [
    "A"
   ]
  },
  {
   "cell_type": "code",
   "execution_count": 88,
   "metadata": {},
   "outputs": [
    {
     "data": {
      "text/plain": [
       "25"
      ]
     },
     "execution_count": 88,
     "metadata": {},
     "output_type": "execute_result"
    }
   ],
   "source": [
    "_"
   ]
  },
  {
   "cell_type": "code",
   "execution_count": 89,
   "metadata": {},
   "outputs": [
    {
     "data": {
      "text/plain": [
       "20"
      ]
     },
     "execution_count": 89,
     "metadata": {},
     "output_type": "execute_result"
    }
   ],
   "source": [
    "m"
   ]
  },
  {
   "cell_type": "code",
   "execution_count": 101,
   "metadata": {},
   "outputs": [],
   "source": [
    "def calc(x,y=5):\n",
    "    global m\n",
    "    def nested_fun(p):\n",
    "        return p*2\n",
    "    m=nested_fun(m)\n",
    "    return [x*y*m,x+y+m]\n",
    "    "
   ]
  },
  {
   "cell_type": "code",
   "execution_count": 102,
   "metadata": {},
   "outputs": [],
   "source": [
    "A,_=calc(2,3)"
   ]
  },
  {
   "cell_type": "code",
   "execution_count": 103,
   "metadata": {},
   "outputs": [
    {
     "data": {
      "text/plain": [
       "1280000"
      ]
     },
     "execution_count": 103,
     "metadata": {},
     "output_type": "execute_result"
    }
   ],
   "source": [
    "m"
   ]
  },
  {
   "cell_type": "code",
   "execution_count": 105,
   "metadata": {},
   "outputs": [
    {
     "data": {
      "text/plain": [
       "[51200000, 5120007]"
      ]
     },
     "execution_count": 105,
     "metadata": {},
     "output_type": "execute_result"
    }
   ],
   "source": [
    "calc(2)"
   ]
  },
  {
   "cell_type": "code",
   "execution_count": 106,
   "metadata": {},
   "outputs": [
    {
     "data": {
      "text/plain": [
       "[358400000, 10240012]"
      ]
     },
     "execution_count": 106,
     "metadata": {},
     "output_type": "execute_result"
    }
   ],
   "source": [
    "calc(y=7,x=5)"
   ]
  },
  {
   "cell_type": "markdown",
   "metadata": {},
   "source": [
    "## lambda,map & filter functions"
   ]
  },
  {
   "cell_type": "code",
   "execution_count": 108,
   "metadata": {},
   "outputs": [
    {
     "data": {
      "text/plain": [
       "2500"
      ]
     },
     "execution_count": 108,
     "metadata": {},
     "output_type": "execute_result"
    }
   ],
   "source": [
    "square(50)"
   ]
  },
  {
   "cell_type": "code",
   "execution_count": 111,
   "metadata": {},
   "outputs": [],
   "source": [
    "nums=[12,15,13,23,25,38]"
   ]
  },
  {
   "cell_type": "code",
   "execution_count": 112,
   "metadata": {},
   "outputs": [
    {
     "data": {
      "text/plain": [
       "[144, 225, 169, 529, 625, 1444]"
      ]
     },
     "execution_count": 112,
     "metadata": {},
     "output_type": "execute_result"
    }
   ],
   "source": [
    "sq=[num**2 for num in nums]\n",
    "sq"
   ]
  },
  {
   "cell_type": "code",
   "execution_count": 113,
   "metadata": {},
   "outputs": [
    {
     "name": "stdout",
     "output_type": "stream",
     "text": [
      "2\n",
      "2 is a factor of  12\n",
      "2\n",
      "3\n",
      "3 is a factor of  15\n",
      "2\n",
      "3\n",
      "4\n",
      "5\n",
      "6\n",
      "13 is prime.\n",
      "2\n",
      "3\n",
      "4\n",
      "5\n",
      "6\n",
      "7\n",
      "8\n",
      "9\n",
      "10\n",
      "11\n",
      "23 is prime.\n",
      "2\n",
      "3\n",
      "4\n",
      "5\n",
      "5 is a factor of  25\n",
      "2\n",
      "2 is a factor of  38\n"
     ]
    }
   ],
   "source": [
    "res=[check_prime(num) for num in nums]"
   ]
  },
  {
   "cell_type": "code",
   "execution_count": 114,
   "metadata": {},
   "outputs": [
    {
     "data": {
      "text/plain": [
       "[144, 225, 169, 529, 625, 1444]"
      ]
     },
     "execution_count": 114,
     "metadata": {},
     "output_type": "execute_result"
    }
   ],
   "source": [
    "list(map(square,nums))"
   ]
  },
  {
   "cell_type": "code",
   "execution_count": 2,
   "metadata": {},
   "outputs": [
    {
     "name": "stdout",
     "output_type": "stream",
     "text": [
      "(1, 3)\n",
      "1\n",
      "3\n",
      "(2, 4)\n",
      "2\n",
      "4\n"
     ]
    }
   ],
   "source": [
    "def adder(*args):\n",
    "    res=0\n",
    "    print(args)\n",
    "    for x in args:\n",
    "        print(x)\n",
    "        res=res+x\n",
    "    return res    \n",
    "a=list(map(adder,[1,2],[3,4]))"
   ]
  },
  {
   "cell_type": "code",
   "execution_count": 120,
   "metadata": {},
   "outputs": [
    {
     "data": {
      "text/plain": [
       "[4, 6]"
      ]
     },
     "execution_count": 120,
     "metadata": {},
     "output_type": "execute_result"
    }
   ],
   "source": [
    "a"
   ]
  },
  {
   "cell_type": "markdown",
   "metadata": {},
   "source": [
    "## lambda functions are \"in-line\" functions ,anonymous functions,single use functions.This gets flushed off from the memory after using it."
   ]
  },
  {
   "cell_type": "code",
   "execution_count": 127,
   "metadata": {},
   "outputs": [
    {
     "data": {
      "text/plain": [
       "[288, 450, 338, 1058, 1250, 1568]"
      ]
     },
     "execution_count": 127,
     "metadata": {},
     "output_type": "execute_result"
    }
   ],
   "source": [
    "list(map(lambda x,y:x**2+y**2,nums1,nums1))"
   ]
  },
  {
   "cell_type": "code",
   "execution_count": 140,
   "metadata": {},
   "outputs": [
    {
     "name": "stdout",
     "output_type": "stream",
     "text": [
      "Variable      Type                          Data/Info\n",
      "-----------------------------------------------------\n",
      "A             int                           7680000\n",
      "B             int                           25\n",
      "a             list                          n=2\n",
      "adder         function                      <function adder at 0x0000021E4D8C6288>\n",
      "calc          function                      <function calc at 0x0000021E4D94AC18>\n",
      "check_prime   function                      <function check_prime at 0x0000021E4891A438>\n",
      "circ          function                      <function <lambda> at 0x0000021E4D8C6318>\n",
      "i             int                           0\n",
      "k             int                           2\n",
      "l             list                          n=6\n",
      "m             int                           10240000\n",
      "mat           list                          n=3\n",
      "num           list                          n=3\n",
      "nums          list                          n=6\n",
      "nums1         list                          n=6\n",
      "res           list                          n=6\n",
      "sq            list                          n=6\n",
      "square        function                      <function square at 0x0000021E460EF948>\n",
      "v             builtin_function_or_method    <built-in method count of<...>ct at 0x0000021E48461348>\n"
     ]
    }
   ],
   "source": [
    "whos"
   ]
  },
  {
   "cell_type": "code",
   "execution_count": 138,
   "metadata": {},
   "outputs": [],
   "source": [
    "circ=lambda x,y:x**2+y**2#Storing it for future use but it is not the ideal way."
   ]
  },
  {
   "cell_type": "code",
   "execution_count": 139,
   "metadata": {},
   "outputs": [
    {
     "name": "stdout",
     "output_type": "stream",
     "text": [
      "Variable      Type                          Data/Info\n",
      "-----------------------------------------------------\n",
      "A             int                           7680000\n",
      "B             int                           25\n",
      "a             list                          n=2\n",
      "adder         function                      <function adder at 0x0000021E4D8C6288>\n",
      "calc          function                      <function calc at 0x0000021E4D94AC18>\n",
      "check_prime   function                      <function check_prime at 0x0000021E4891A438>\n",
      "circ          function                      <function <lambda> at 0x0000021E4D8C6318>\n",
      "i             int                           0\n",
      "k             int                           2\n",
      "l             list                          n=6\n",
      "m             int                           10240000\n",
      "mat           list                          n=3\n",
      "num           list                          n=3\n",
      "nums          list                          n=6\n",
      "nums1         list                          n=6\n",
      "res           list                          n=6\n",
      "sq            list                          n=6\n",
      "square        function                      <function square at 0x0000021E460EF948>\n",
      "v             builtin_function_or_method    <built-in method count of<...>ct at 0x0000021E48461348>\n"
     ]
    }
   ],
   "source": [
    "whos"
   ]
  },
  {
   "cell_type": "code",
   "execution_count": 136,
   "metadata": {},
   "outputs": [
    {
     "data": {
      "text/plain": [
       "[288, 450, 338, 1058, 1250, 1568]"
      ]
     },
     "execution_count": 136,
     "metadata": {},
     "output_type": "execute_result"
    }
   ],
   "source": [
    "list(map(circ,nums1,nums1))"
   ]
  },
  {
   "cell_type": "code",
   "execution_count": 142,
   "metadata": {},
   "outputs": [],
   "source": [
    "x=[1,3,5]\n",
    "y=[4.8,11.3,17.2]"
   ]
  }
 ],
 "metadata": {
  "kernelspec": {
   "display_name": "Python 3",
   "language": "python",
   "name": "python3"
  },
  "language_info": {
   "codemirror_mode": {
    "name": "ipython",
    "version": 3
   },
   "file_extension": ".py",
   "mimetype": "text/x-python",
   "name": "python",
   "nbconvert_exporter": "python",
   "pygments_lexer": "ipython3",
   "version": "3.7.6"
  }
 },
 "nbformat": 4,
 "nbformat_minor": 4
}
